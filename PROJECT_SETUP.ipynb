{
 "cells": [
  {
   "cell_type": "markdown",
   "id": "a7780060",
   "metadata": {},
   "source": [
    "\n",
    "# ParkSpero - Melbourne Parking App\n",
    "\n",
    "**Live Website:** https://www.mel-borntowinta12.me/\n",
    "\n",
    "> This notebook contains an overview and setup guide. Run the cells if you'd like to execute commands locally (adjust paths as needed).\n"
   ]
  },
  {
   "cell_type": "markdown",
   "id": "faadadb4",
   "metadata": {},
   "source": [
    "\n",
    "## 📌 Project Overview\n",
    "ParkSpero is a Django-based web application that provides **live parking availability**, **historical analytics**, and **demand prediction** for Melbourne streets.\n",
    "\n",
    "**Purpose**  \n",
    "Help drivers **quickly find available parking**, **plan ahead based on predicted availability**, and **reduce time spent circling the city** — making parking in Melbourne more efficient and less stressful. By leveraging real-time data and historical trends, ParkSpero supports both **individual convenience** and **overall traffic flow improvement**.\n"
   ]
  },
  {
   "cell_type": "markdown",
   "id": "331859c5",
   "metadata": {},
   "source": [
    "\n",
    "## 📂 Project Structure\n",
    "```\n",
    " └── parkingapp-django/\n",
    "     ├── config/                # Django project configuration\n",
    "     ├── main/                  # Main application\n",
    "     │   ├── services/          # Business logic and API services\n",
    "     │   ├── static/            # Static files (CSS, JS, images)\n",
    "     │   ├── templates/         # HTML templates\n",
    "     │   └── views/             # Django views\n",
    "     ├── venv/                  # Virtual environment\n",
    "     ├── manage.py              # Django management script\n",
    "     ├── requirements.txt       # Python dependencies\n",
    "     └── db.sqlite3             # SQLite database (for dev)\n",
    "```\n"
   ]
  },
  {
   "cell_type": "markdown",
   "id": "fbc8c3d3",
   "metadata": {},
   "source": [
    "## 🚀 Setup Instructions"
   ]
  },
  {
   "cell_type": "markdown",
   "id": "8331a803",
   "metadata": {},
   "source": [
    "### 1️⃣ Clone the repository"
   ]
  },
  {
   "cell_type": "code",
   "execution_count": null,
   "id": "bf7f55da",
   "metadata": {},
   "outputs": [],
   "source": [
    "# Use this cell to clone the repo (edit the path as you need)\n",
    "!git clone https://github.com/Kevin951113/ParkSpero-Melbourne.git\n",
    "%cd ParkSpero-Melbourne\n"
   ]
  },
  {
   "cell_type": "markdown",
   "id": "249eb1cf",
   "metadata": {},
   "source": [
    "### 2️⃣ Create a Virtual Environment"
   ]
  },
  {
   "cell_type": "markdown",
   "id": "4e86b9a0",
   "metadata": {},
   "source": [
    "#### Windows (PowerShell)"
   ]
  },
  {
   "cell_type": "code",
   "execution_count": null,
   "id": "a2e7a5e9",
   "metadata": {},
   "outputs": [],
   "source": [
    "# Windows PowerShell\n",
    "python -m venv venv\n",
    ".\\venv\\Scripts\\Activate\n"
   ]
  },
  {
   "cell_type": "markdown",
   "id": "177ad2dc",
   "metadata": {},
   "source": [
    "#### Mac/Linux"
   ]
  },
  {
   "cell_type": "code",
   "execution_count": null,
   "id": "271c3daa",
   "metadata": {},
   "outputs": [],
   "source": [
    "# macOS / Linux\n",
    "python3 -m venv venv\n",
    "source venv/bin/activate\n"
   ]
  },
  {
   "cell_type": "markdown",
   "id": "b9ad77c8",
   "metadata": {},
   "source": [
    "### 3️⃣ Install dependencies"
   ]
  },
  {
   "cell_type": "code",
   "execution_count": null,
   "id": "e50c5def",
   "metadata": {},
   "outputs": [],
   "source": [
    "pip install -r requirements.txt"
   ]
  },
  {
   "cell_type": "markdown",
   "id": "be75070b",
   "metadata": {},
   "source": [
    "### 4️⃣ Run the Django server"
   ]
  },
  {
   "cell_type": "code",
   "execution_count": null,
   "id": "81dcbc06",
   "metadata": {},
   "outputs": [],
   "source": [
    "python manage.py runserver"
   ]
  },
  {
   "cell_type": "markdown",
   "id": "05157fbc",
   "metadata": {},
   "source": [
    "\n",
    "## 💻 Access the App\n",
    "- Local dev: `http://127.0.0.1:8000`\n",
    "- Production: https://www.mel-borntowinta12.me/\n"
   ]
  },
  {
   "cell_type": "markdown",
   "id": "455efaf4",
   "metadata": {},
   "source": [
    "\n",
    "## 📌 Notes\n",
    "- Static files are located in `main/static/`.\n",
    "- HTML templates are located in `main/templates/`.\n",
    "- Business logic for analytics, predictions, and live parking updates is inside `main/services/`.\n"
   ]
  }
 ],
 "metadata": {
  "language_info": {
   "name": "python"
  }
 },
 "nbformat": 4,
 "nbformat_minor": 5
}
