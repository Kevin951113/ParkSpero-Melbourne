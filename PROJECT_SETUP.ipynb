{
 "cells": [
  {
   "cell_type": "markdown",
   "id": "9c69f248",
   "metadata": {},
   "source": [
    "\n",
    "# ParkSpero - Melbourne Parking App\n",
    "\n",
    "## 📌 Project Overview\n",
    "ParkSpero is a Django-based web application that provides live parking availability, historical analytics, and demand prediction for Melbourne streets.\n"
   ]
  },
  {
   "cell_type": "markdown",
   "id": "adc416f8",
   "metadata": {},
   "source": [
    "\n",
    "## 📂 Project Structure\n",
    "```\n",
    " └── parkingapp-django/\n",
    "     ├── config/                # Django project configuration\n",
    "     ├── main/                  # Main application\n",
    "     │   ├── services/          # Business logic and API services\n",
    "     │   ├── static/            # Static files (CSS, JS, images)\n",
    "     │   ├── templates/         # HTML templates\n",
    "     │   └── views/             # Django views\n",
    "     ├── venv/                  # Virtual environment\n",
    "     ├── manage.py              # Django management script\n",
    "     ├── requirements.txt       # Python dependencies\n",
    "     └── db.sqlite3             # SQLite database (for dev)\n",
    "```\n"
   ]
  },
  {
   "cell_type": "markdown",
   "id": "6e14519d",
   "metadata": {},
   "source": [
    "\n",
    "## 🚀 Setup Instructions\n",
    "### 1️⃣ Clone the repository\n"
   ]
  },
  {
   "cell_type": "code",
   "execution_count": null,
   "id": "720032fd",
   "metadata": {},
   "outputs": [],
   "source": [
    "\n",
    "!git clone https://github.com/Kevin951113/ParkSpero-Melbourne.git\n",
    "%cd ParkSpero-Melbourne\n"
   ]
  },
  {
   "cell_type": "markdown",
   "id": "01a5f6f2",
   "metadata": {},
   "source": [
    "\n",
    "### 2️⃣ Create a Virtual Environment\n",
    "#### Windows (PowerShell)\n"
   ]
  },
  {
   "cell_type": "code",
   "execution_count": null,
   "id": "9b8c7cbb",
   "metadata": {},
   "outputs": [],
   "source": [
    "\n",
    "!python -m venv venv\n",
    "!.\u000benv\\Scripts\\Activate\n"
   ]
  },
  {
   "cell_type": "markdown",
   "id": "9ea49871",
   "metadata": {},
   "source": [
    "\n",
    "#### Mac/Linux\n"
   ]
  },
  {
   "cell_type": "code",
   "execution_count": null,
   "id": "e94fa91a",
   "metadata": {},
   "outputs": [],
   "source": [
    "\n",
    "!python3 -m venv venv\n",
    "!source venv/bin/activate\n"
   ]
  },
  {
   "cell_type": "markdown",
   "id": "14a9a3ba",
   "metadata": {},
   "source": [
    "\n",
    "### 3️⃣ Install dependencies\n"
   ]
  },
  {
   "cell_type": "code",
   "execution_count": null,
   "id": "f82e41e6",
   "metadata": {},
   "outputs": [],
   "source": [
    "\n",
    "!pip install -r requirements.txt\n"
   ]
  },
  {
   "cell_type": "markdown",
   "id": "0820bd6f",
   "metadata": {},
   "source": [
    "\n",
    "### 4️⃣ Run the Django server\n"
   ]
  },
  {
   "cell_type": "code",
   "execution_count": null,
   "id": "74796252",
   "metadata": {},
   "outputs": [],
   "source": [
    "\n",
    "!python manage.py runserver\n"
   ]
  },
  {
   "cell_type": "markdown",
   "id": "c2ce7483",
   "metadata": {},
   "source": [
    "\n",
    "## 💻 Access the App\n",
    "Once the server starts, open your browser and visit:\n",
    "```\n",
    "http://127.0.0.1:8000\n",
    "```\n"
   ]
  },
  {
   "cell_type": "markdown",
   "id": "465734a6",
   "metadata": {},
   "source": [
    "\n",
    "## 📌 Notes\n",
    "- The database (`db.sqlite3`) is for local development only.\n",
    "- Static files are located in `main/static/`.\n",
    "- HTML templates are located in `main/templates/`.\n",
    "- Business logic for analytics, predictions, and live parking updates is inside `main/services/`.\n",
    "\n",
    "✅ You’re now ready to use ParkSpero locally!\n"
   ]
  }
 ],
 "metadata": {
  "language_info": {
   "name": "python"
  }
 },
 "nbformat": 4,
 "nbformat_minor": 5
}
